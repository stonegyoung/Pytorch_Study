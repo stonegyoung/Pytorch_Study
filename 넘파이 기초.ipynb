{
  "nbformat": 4,
  "nbformat_minor": 0,
  "metadata": {
    "colab": {
      "provenance": []
    },
    "kernelspec": {
      "name": "python3",
      "display_name": "Python 3"
    },
    "language_info": {
      "name": "python"
    }
  },
  "cells": [
    {
      "cell_type": "markdown",
      "source": [
        "# 필요 라이브러리 임포트"
      ],
      "metadata": {
        "id": "SLh98uSg19gN"
      }
    },
    {
      "cell_type": "code",
      "execution_count": 10,
      "metadata": {
        "id": "gpLXMqQirtID"
      },
      "outputs": [],
      "source": [
        "import numpy as np"
      ]
    },
    {
      "cell_type": "markdown",
      "source": [
        "#넘파이\n",
        "자료형이 하나(ndarray)  \n",
        "np.array()를 이용. () 안이 전부다 리스트로 이루어짐  \n",
        "행렬 계산에 많이 쓴다"
      ],
      "metadata": {
        "id": "eVbyrnaOsBbC"
      }
    },
    {
      "cell_type": "code",
      "source": [
        "# 변수 출력했을 때 array([])로 뜨면 무조건 넘파이\n",
        "data = np.array([1,2,3,4,5])\n",
        "data"
      ],
      "metadata": {
        "colab": {
          "base_uri": "https://localhost:8080/"
        },
        "id": "08uAT-MBruoT",
        "outputId": "37fa731d-7376-4da3-b70e-009889701c1c"
      },
      "execution_count": 11,
      "outputs": [
        {
          "output_type": "execute_result",
          "data": {
            "text/plain": [
              "array([1, 2, 3, 4, 5])"
            ]
          },
          "metadata": {},
          "execution_count": 11
        }
      ]
    },
    {
      "cell_type": "code",
      "source": [
        "# 차원 확인법\n",
        "data.ndim"
      ],
      "metadata": {
        "colab": {
          "base_uri": "https://localhost:8080/"
        },
        "id": "gx6dN6VHsAXI",
        "outputId": "b73f68c5-1f0d-47ae-b1c5-032b630e5e48"
      },
      "execution_count": 12,
      "outputs": [
        {
          "output_type": "execute_result",
          "data": {
            "text/plain": [
              "1"
            ]
          },
          "metadata": {},
          "execution_count": 12
        }
      ]
    },
    {
      "cell_type": "code",
      "source": [
        "# shape 확인\n",
        "data.shape"
      ],
      "metadata": {
        "colab": {
          "base_uri": "https://localhost:8080/"
        },
        "id": "wUja2WL2tVE8",
        "outputId": "17de5536-95d6-4dcf-a5cb-95436f3efb78"
      },
      "execution_count": 13,
      "outputs": [
        {
          "output_type": "execute_result",
          "data": {
            "text/plain": [
              "(5,)"
            ]
          },
          "metadata": {},
          "execution_count": 13
        }
      ]
    },
    {
      "cell_type": "code",
      "source": [
        "# 0, 1, 2, 3 차원과 shape 확인\n",
        "d0 = np.array(1)\n",
        "d1 = np.array([1,2,3])\n",
        "d2 = np.array([[1,2,3],[4,5,6]])\n",
        "d3 = np.array([[[1,2,3],[4,5,6]],[[7,8,9],[10,11,12]]])\n",
        "\n",
        "print(d0.ndim, d0.shape)\n",
        "print(d1.ndim, d1.shape)\n",
        "print(d2.ndim, d2.shape)\n",
        "print(d3.ndim, d3.shape)"
      ],
      "metadata": {
        "colab": {
          "base_uri": "https://localhost:8080/"
        },
        "id": "XDN8smwGb0Ub",
        "outputId": "ed77e9bc-c809-445a-d0be-707e7dfe3f7e"
      },
      "execution_count": 14,
      "outputs": [
        {
          "output_type": "stream",
          "name": "stdout",
          "text": [
            "0 ()\n",
            "1 (3,)\n",
            "2 (2, 3)\n",
            "3 (2, 2, 3)\n"
          ]
        }
      ]
    },
    {
      "cell_type": "code",
      "source": [
        "# 데이터 타입 확인\n",
        "data.dtype"
      ],
      "metadata": {
        "colab": {
          "base_uri": "https://localhost:8080/"
        },
        "id": "AZYWbjO-tsQU",
        "outputId": "aa75a533-6a82-4f01-818f-7ed3b9eeeb10"
      },
      "execution_count": 15,
      "outputs": [
        {
          "output_type": "execute_result",
          "data": {
            "text/plain": [
              "dtype('int32')"
            ]
          },
          "metadata": {},
          "execution_count": 15
        }
      ]
    },
    {
      "cell_type": "code",
      "source": [
        "# 데이터 타입을 바꿔야 할 때. 원본에 바로 적용되지 않음\n",
        "data.astype('float')"
      ],
      "metadata": {
        "colab": {
          "base_uri": "https://localhost:8080/"
        },
        "id": "5TeNuwsAt2YE",
        "outputId": "f8cbacf3-d5c9-4cd6-c546-60a0e0892597"
      },
      "execution_count": 16,
      "outputs": [
        {
          "output_type": "execute_result",
          "data": {
            "text/plain": [
              "array([1., 2., 3., 4., 5.])"
            ]
          },
          "metadata": {},
          "execution_count": 16
        }
      ]
    },
    {
      "cell_type": "code",
      "source": [
        "# 이렇게 해야 적용 된다\n",
        "data = data.astype('float')\n",
        "data"
      ],
      "metadata": {
        "colab": {
          "base_uri": "https://localhost:8080/"
        },
        "id": "ldrZJJUcvJUL",
        "outputId": "10df4f71-761e-49a3-e1b2-20539407612f"
      },
      "execution_count": 17,
      "outputs": [
        {
          "output_type": "execute_result",
          "data": {
            "text/plain": [
              "array([1., 2., 3., 4., 5.])"
            ]
          },
          "metadata": {},
          "execution_count": 17
        }
      ]
    },
    {
      "cell_type": "code",
      "source": [
        "# 데이터 개수 확인\n",
        "data.size"
      ],
      "metadata": {
        "colab": {
          "base_uri": "https://localhost:8080/"
        },
        "id": "UvQzaaVGvKPN",
        "outputId": "2ef6523e-6455-43c5-bd48-712464156c96"
      },
      "execution_count": 18,
      "outputs": [
        {
          "output_type": "execute_result",
          "data": {
            "text/plain": [
              "5"
            ]
          },
          "metadata": {},
          "execution_count": 18
        }
      ]
    },
    {
      "cell_type": "code",
      "source": [
        "data = np.array([[1,2],[3,4]])"
      ],
      "metadata": {
        "id": "wWamuZrev6MP"
      },
      "execution_count": 19,
      "outputs": []
    },
    {
      "cell_type": "code",
      "source": [
        "# 행과 열을 바꿔라\n",
        "data.T"
      ],
      "metadata": {
        "colab": {
          "base_uri": "https://localhost:8080/"
        },
        "id": "ganLn-_9vnxi",
        "outputId": "d2b31d38-f7ff-4338-efec-7af0f0eb23f4"
      },
      "execution_count": 20,
      "outputs": [
        {
          "output_type": "execute_result",
          "data": {
            "text/plain": [
              "array([[1, 3],\n",
              "       [2, 4]])"
            ]
          },
          "metadata": {},
          "execution_count": 20
        }
      ]
    },
    {
      "cell_type": "code",
      "source": [
        "# 리스트 만들어주는 np.arange(start, stop, step)\n",
        "data = np.arange(10)\n",
        "data"
      ],
      "metadata": {
        "colab": {
          "base_uri": "https://localhost:8080/"
        },
        "id": "f0qG1UsYv4RM",
        "outputId": "fe49e787-54bb-4a50-c476-90c5725b5c28"
      },
      "execution_count": 21,
      "outputs": [
        {
          "output_type": "execute_result",
          "data": {
            "text/plain": [
              "array([0, 1, 2, 3, 4, 5, 6, 7, 8, 9])"
            ]
          },
          "metadata": {},
          "execution_count": 21
        }
      ]
    },
    {
      "cell_type": "code",
      "source": [
        "# 안이 0으로 채워진. 튜플로 행렬 만들어\n",
        "np.zeros((2,3))"
      ],
      "metadata": {
        "colab": {
          "base_uri": "https://localhost:8080/"
        },
        "id": "Ne-lOXP9wSL9",
        "outputId": "bb55dd67-b341-451d-f695-5ac0d7b384c3"
      },
      "execution_count": 22,
      "outputs": [
        {
          "output_type": "execute_result",
          "data": {
            "text/plain": [
              "array([[0., 0., 0.],\n",
              "       [0., 0., 0.]])"
            ]
          },
          "metadata": {},
          "execution_count": 22
        }
      ]
    },
    {
      "cell_type": "code",
      "source": [
        "np.zeros([2,3])"
      ],
      "metadata": {
        "colab": {
          "base_uri": "https://localhost:8080/"
        },
        "id": "K7TjOnaVduD5",
        "outputId": "d52a0311-6c4a-42ab-b198-cc33183349d8"
      },
      "execution_count": 23,
      "outputs": [
        {
          "output_type": "execute_result",
          "data": {
            "text/plain": [
              "array([[0., 0., 0.],\n",
              "       [0., 0., 0.]])"
            ]
          },
          "metadata": {},
          "execution_count": 23
        }
      ]
    },
    {
      "cell_type": "code",
      "source": [
        "np.zeros(2)"
      ],
      "metadata": {
        "colab": {
          "base_uri": "https://localhost:8080/"
        },
        "id": "REVTZWDOwvYa",
        "outputId": "174f3c24-bbbd-4506-98cf-010929591e8c"
      },
      "execution_count": 24,
      "outputs": [
        {
          "output_type": "execute_result",
          "data": {
            "text/plain": [
              "array([0., 0.])"
            ]
          },
          "metadata": {},
          "execution_count": 24
        }
      ]
    },
    {
      "cell_type": "code",
      "source": [
        "# 안이 1으로 채워진. 튜플로 행렬 만들어\n",
        "np.ones((2,3))"
      ],
      "metadata": {
        "colab": {
          "base_uri": "https://localhost:8080/"
        },
        "id": "344op0hRw0JI",
        "outputId": "7010ac99-429e-4b29-e3e7-61cd8e672522"
      },
      "execution_count": 25,
      "outputs": [
        {
          "output_type": "execute_result",
          "data": {
            "text/plain": [
              "array([[1., 1., 1.],\n",
              "       [1., 1., 1.]])"
            ]
          },
          "metadata": {},
          "execution_count": 25
        }
      ]
    },
    {
      "cell_type": "code",
      "source": [
        "# 지정 값으로 채워진. 튜플로 행렬 만들어\n",
        "np.full((2,3,4), fill_value=5)"
      ],
      "metadata": {
        "colab": {
          "base_uri": "https://localhost:8080/"
        },
        "id": "aTQ7GNANw8Hv",
        "outputId": "503e970b-5191-4bcb-b322-aac5dba3c76f"
      },
      "execution_count": 26,
      "outputs": [
        {
          "output_type": "execute_result",
          "data": {
            "text/plain": [
              "array([[[5, 5, 5, 5],\n",
              "        [5, 5, 5, 5],\n",
              "        [5, 5, 5, 5]],\n",
              "\n",
              "       [[5, 5, 5, 5],\n",
              "        [5, 5, 5, 5],\n",
              "        [5, 5, 5, 5]]])"
            ]
          },
          "metadata": {},
          "execution_count": 26
        }
      ]
    },
    {
      "cell_type": "code",
      "source": [
        "# 단위 행렬\n",
        "np.eye(3)"
      ],
      "metadata": {
        "colab": {
          "base_uri": "https://localhost:8080/"
        },
        "id": "xJ3DqocrxMvK",
        "outputId": "68695681-5e80-40b5-caa4-2dac33b75422"
      },
      "execution_count": 27,
      "outputs": [
        {
          "output_type": "execute_result",
          "data": {
            "text/plain": [
              "array([[1., 0., 0.],\n",
              "       [0., 1., 0.],\n",
              "       [0., 0., 1.]])"
            ]
          },
          "metadata": {},
          "execution_count": 27
        }
      ]
    },
    {
      "cell_type": "code",
      "source": [
        "np.eye(3,4)"
      ],
      "metadata": {
        "colab": {
          "base_uri": "https://localhost:8080/"
        },
        "id": "bWl-N4MOxPmD",
        "outputId": "82b1de3a-a509-40a8-f23e-77afe8b81dfb"
      },
      "execution_count": 28,
      "outputs": [
        {
          "output_type": "execute_result",
          "data": {
            "text/plain": [
              "array([[1., 0., 0., 0.],\n",
              "       [0., 1., 0., 0.],\n",
              "       [0., 0., 1., 0.]])"
            ]
          },
          "metadata": {},
          "execution_count": 28
        }
      ]
    },
    {
      "cell_type": "code",
      "source": [
        "# 0~1 사이 균일분포\n",
        "np.random.rand(2,3)\n",
        "# 평균 0, 표준편차 1을 따르는\n",
        "np.random.randn(2,3)\n",
        "# 범위 내의 정수\n",
        "np.random.randint(10, size=(3,5))\n",
        "np.random.randint(5, 15, size=(3, 5)) # 5~14 사이의 정수"
      ],
      "metadata": {
        "id": "1Gyj421VxZFe",
        "colab": {
          "base_uri": "https://localhost:8080/"
        },
        "outputId": "4f50c633-d5fd-474a-b0bf-540f64a4bca9"
      },
      "execution_count": 29,
      "outputs": [
        {
          "output_type": "execute_result",
          "data": {
            "text/plain": [
              "array([[ 7, 10, 13, 10, 10],\n",
              "       [13,  9,  8,  7,  8],\n",
              "       [ 6, 14, 10,  8, 13]])"
            ]
          },
          "metadata": {},
          "execution_count": 29
        }
      ]
    },
    {
      "cell_type": "code",
      "source": [
        "data = np.arange(1,10)\n",
        "data.size"
      ],
      "metadata": {
        "colab": {
          "base_uri": "https://localhost:8080/"
        },
        "id": "w6xu950syC-D",
        "outputId": "305f6b83-eb12-4d21-835a-8539c8f27c88"
      },
      "execution_count": 30,
      "outputs": [
        {
          "output_type": "execute_result",
          "data": {
            "text/plain": [
              "9"
            ]
          },
          "metadata": {},
          "execution_count": 30
        }
      ]
    },
    {
      "cell_type": "code",
      "source": [
        "# 데이터 shape을 바꿔야 할 때. 원본에 바로 적용되지 않음\n",
        "data.reshape(3,3)"
      ],
      "metadata": {
        "colab": {
          "base_uri": "https://localhost:8080/"
        },
        "id": "COCtjhdHyKl_",
        "outputId": "97203b05-1ae8-4b48-c120-f993a46d2892"
      },
      "execution_count": 31,
      "outputs": [
        {
          "output_type": "execute_result",
          "data": {
            "text/plain": [
              "array([[1, 2, 3],\n",
              "       [4, 5, 6],\n",
              "       [7, 8, 9]])"
            ]
          },
          "metadata": {},
          "execution_count": 31
        }
      ]
    },
    {
      "cell_type": "markdown",
      "source": [
        "# 행렬의 연산"
      ],
      "metadata": {
        "id": "CQ3UgM48zBr6"
      }
    },
    {
      "cell_type": "code",
      "source": [
        "# 리스트의 +는 연결\n",
        "l_data1 = [1,2,3]\n",
        "l_data2 = [4,5,6]\n",
        "print(l_data1 + l_data2)\n",
        "\n",
        "# 넘파이의 +는 행렬 덧셈\n",
        "n_data1 = np.array([1,2,3])\n",
        "n_data2 = np.array([4,5,6])\n",
        "print(n_data1 + n_data2)"
      ],
      "metadata": {
        "colab": {
          "base_uri": "https://localhost:8080/"
        },
        "id": "69GCvT2Syer5",
        "outputId": "39767495-320f-4abc-94b0-d95a2bb3ec72"
      },
      "execution_count": 32,
      "outputs": [
        {
          "output_type": "stream",
          "name": "stdout",
          "text": [
            "[1, 2, 3, 4, 5, 6]\n",
            "[5 7 9]\n"
          ]
        }
      ]
    },
    {
      "cell_type": "markdown",
      "source": [
        "# 통계 관련 함수"
      ],
      "metadata": {
        "id": "hOHCSQyvzqxb"
      }
    },
    {
      "cell_type": "code",
      "source": [
        "data = np.array([[1,2,3],[10,20,30]])\n",
        "data"
      ],
      "metadata": {
        "colab": {
          "base_uri": "https://localhost:8080/"
        },
        "id": "PXlhbnp9z49b",
        "outputId": "c05642ea-d070-4146-92f1-e86ea2b0f7fe"
      },
      "execution_count": 33,
      "outputs": [
        {
          "output_type": "execute_result",
          "data": {
            "text/plain": [
              "array([[ 1,  2,  3],\n",
              "       [10, 20, 30]])"
            ]
          },
          "metadata": {},
          "execution_count": 33
        }
      ]
    },
    {
      "cell_type": "code",
      "source": [
        "# 합\n",
        "data.sum()"
      ],
      "metadata": {
        "colab": {
          "base_uri": "https://localhost:8080/"
        },
        "id": "KzmpZ9Vazb4v",
        "outputId": "e8edcf30-799a-4d36-cea7-3c9295bcc810"
      },
      "execution_count": 34,
      "outputs": [
        {
          "output_type": "execute_result",
          "data": {
            "text/plain": [
              "66"
            ]
          },
          "metadata": {},
          "execution_count": 34
        }
      ]
    },
    {
      "cell_type": "markdown",
      "source": [
        "axis\n",
        "- 0이면 열 기준으로 무언가를 함\n",
        "- 1이면 행 기준으로 무언가를 함"
      ],
      "metadata": {
        "id": "TykZ4Dq9x5ud"
      }
    },
    {
      "cell_type": "code",
      "source": [
        "# 열 기준의 합\n",
        "data.sum(axis=0)"
      ],
      "metadata": {
        "colab": {
          "base_uri": "https://localhost:8080/"
        },
        "id": "Fx0lYz740ATK",
        "outputId": "c815e067-0612-4a04-9d2b-34945572997b"
      },
      "execution_count": 35,
      "outputs": [
        {
          "output_type": "execute_result",
          "data": {
            "text/plain": [
              "array([11, 22, 33])"
            ]
          },
          "metadata": {},
          "execution_count": 35
        }
      ]
    },
    {
      "cell_type": "code",
      "source": [
        "# 행 기준의 합\n",
        "data.sum(axis=1)"
      ],
      "metadata": {
        "colab": {
          "base_uri": "https://localhost:8080/"
        },
        "id": "ZZZvyC_10I6D",
        "outputId": "6b530725-5e78-401a-9fe4-d39298d2aeda"
      },
      "execution_count": 36,
      "outputs": [
        {
          "output_type": "execute_result",
          "data": {
            "text/plain": [
              "array([ 6, 60])"
            ]
          },
          "metadata": {},
          "execution_count": 36
        }
      ]
    },
    {
      "cell_type": "code",
      "source": [
        "# 평균\n",
        "data.mean()"
      ],
      "metadata": {
        "colab": {
          "base_uri": "https://localhost:8080/"
        },
        "id": "xDbyU7Dr0QXE",
        "outputId": "23bda35c-53cf-40eb-f991-8ed81dc1c745"
      },
      "execution_count": 37,
      "outputs": [
        {
          "output_type": "execute_result",
          "data": {
            "text/plain": [
              "11.0"
            ]
          },
          "metadata": {},
          "execution_count": 37
        }
      ]
    },
    {
      "cell_type": "code",
      "source": [
        "# 열 기준의 평균\n",
        "data.mean(axis=0)"
      ],
      "metadata": {
        "colab": {
          "base_uri": "https://localhost:8080/"
        },
        "id": "9RWvBvpZ0YO6",
        "outputId": "d285bec5-aeb6-4a99-f3d0-741259558a23"
      },
      "execution_count": 38,
      "outputs": [
        {
          "output_type": "execute_result",
          "data": {
            "text/plain": [
              "array([ 5.5, 11. , 16.5])"
            ]
          },
          "metadata": {},
          "execution_count": 38
        }
      ]
    },
    {
      "cell_type": "code",
      "source": [
        "# 분산 클 수록 평균으로부터 퍼져있다\n",
        "data.var()"
      ],
      "metadata": {
        "colab": {
          "base_uri": "https://localhost:8080/"
        },
        "id": "rwO3rusm0bOw",
        "outputId": "233287f3-8b57-4d60-b3a5-2d4238e403dc"
      },
      "execution_count": 39,
      "outputs": [
        {
          "output_type": "execute_result",
          "data": {
            "text/plain": [
              "114.66666666666667"
            ]
          },
          "metadata": {},
          "execution_count": 39
        }
      ]
    },
    {
      "cell_type": "code",
      "source": [
        "# 표준편차. 분산의 제곱근\n",
        "data.std()"
      ],
      "metadata": {
        "colab": {
          "base_uri": "https://localhost:8080/"
        },
        "id": "5Rr3Q_Xe0hNS",
        "outputId": "691dac9c-f99b-4d5e-b6f2-7e6b814c71a8"
      },
      "execution_count": 40,
      "outputs": [
        {
          "output_type": "execute_result",
          "data": {
            "text/plain": [
              "10.708252269472673"
            ]
          },
          "metadata": {},
          "execution_count": 40
        }
      ]
    },
    {
      "cell_type": "code",
      "source": [
        "# 최대값\n",
        "data.max()"
      ],
      "metadata": {
        "colab": {
          "base_uri": "https://localhost:8080/"
        },
        "id": "5B5tNAa30mBV",
        "outputId": "57bb12ec-bf4f-4ea0-e00f-7c01fcc45cb4"
      },
      "execution_count": 41,
      "outputs": [
        {
          "output_type": "execute_result",
          "data": {
            "text/plain": [
              "30"
            ]
          },
          "metadata": {},
          "execution_count": 41
        }
      ]
    },
    {
      "cell_type": "code",
      "source": [
        "# 최소값\n",
        "data.min()"
      ],
      "metadata": {
        "colab": {
          "base_uri": "https://localhost:8080/"
        },
        "id": "x28Wi5Be01AQ",
        "outputId": "dc1beddc-ea73-45a8-a3b1-d6ef79f93422"
      },
      "execution_count": 42,
      "outputs": [
        {
          "output_type": "execute_result",
          "data": {
            "text/plain": [
              "1"
            ]
          },
          "metadata": {},
          "execution_count": 42
        }
      ]
    },
    {
      "cell_type": "markdown",
      "source": [
        "# 주, 월 별 매출 기록인 data_week 파일로 실습"
      ],
      "metadata": {
        "id": "JuzufRGZ49dX"
      }
    },
    {
      "cell_type": "code",
      "source": [
        "data = ['40,52,11,95,52,61,21\\n',\n",
        " '53,17,83,34,29,95,51\\n',\n",
        " '3,2,3,35,62,8,42\\n',\n",
        " '30,10,8,5,39,49,82\\n']"
      ],
      "metadata": {
        "id": "5_OVGC_30Vyl"
      },
      "execution_count": 43,
      "outputs": []
    },
    {
      "cell_type": "code",
      "source": [
        "# 데이터 개수 파악\n",
        "len(data)"
      ],
      "metadata": {
        "colab": {
          "base_uri": "https://localhost:8080/"
        },
        "id": "Udo2kUE77JLx",
        "outputId": "4cc2a300-613d-4cfc-a2d9-dd7a6023c13f"
      },
      "execution_count": 44,
      "outputs": [
        {
          "output_type": "execute_result",
          "data": {
            "text/plain": [
              "4"
            ]
          },
          "metadata": {},
          "execution_count": 44
        }
      ]
    },
    {
      "cell_type": "code",
      "source": [
        "# 데이터 내용 확인\n",
        "data[0]"
      ],
      "metadata": {
        "colab": {
          "base_uri": "https://localhost:8080/"
        },
        "id": "mQegmiqY7JEx",
        "outputId": "cdfa48bb-60e7-4c09-cb25-a8049876cf80"
      },
      "execution_count": 45,
      "outputs": [
        {
          "output_type": "execute_result",
          "data": {
            "text/plain": [
              "'40,52,11,95,52,61,21\\n'"
            ]
          },
          "metadata": {},
          "execution_count": 45
        }
      ]
    },
    {
      "cell_type": "code",
      "source": [
        "# 줄바꿈 제거: replace, strip\n",
        "data[0].strip()"
      ],
      "metadata": {
        "colab": {
          "base_uri": "https://localhost:8080/"
        },
        "id": "91CZpgEi7I75",
        "outputId": "98bdb031-d13f-461e-91c9-babe2bea933f"
      },
      "execution_count": 46,
      "outputs": [
        {
          "output_type": "execute_result",
          "data": {
            "text/plain": [
              "'40,52,11,95,52,61,21'"
            ]
          },
          "metadata": {},
          "execution_count": 46
        }
      ]
    },
    {
      "cell_type": "code",
      "source": [
        "# ,를 기준으로 쪼개기\n",
        "data[0].strip().split(',')"
      ],
      "metadata": {
        "colab": {
          "base_uri": "https://localhost:8080/"
        },
        "id": "5NFrGjv5-fPT",
        "outputId": "36d2f228-acfa-413a-d968-5be660105524"
      },
      "execution_count": 47,
      "outputs": [
        {
          "output_type": "execute_result",
          "data": {
            "text/plain": [
              "['40', '52', '11', '95', '52', '61', '21']"
            ]
          },
          "metadata": {},
          "execution_count": 47
        }
      ]
    },
    {
      "cell_type": "code",
      "source": [
        "list(map(int, data[0].strip().split(',')))"
      ],
      "metadata": {
        "colab": {
          "base_uri": "https://localhost:8080/"
        },
        "id": "SpHV7zJS-mdz",
        "outputId": "29d0c05c-5a0e-4d53-b02a-81372c84ccb4"
      },
      "execution_count": 48,
      "outputs": [
        {
          "output_type": "execute_result",
          "data": {
            "text/plain": [
              "[40, 52, 11, 95, 52, 61, 21]"
            ]
          },
          "metadata": {},
          "execution_count": 48
        }
      ]
    },
    {
      "cell_type": "code",
      "source": [
        "data"
      ],
      "metadata": {
        "colab": {
          "base_uri": "https://localhost:8080/"
        },
        "id": "YRB4dETH_iSM",
        "outputId": "adba31d4-76bd-405e-93fc-4c1055a6bf2e"
      },
      "execution_count": 49,
      "outputs": [
        {
          "output_type": "execute_result",
          "data": {
            "text/plain": [
              "['40,52,11,95,52,61,21\\n',\n",
              " '53,17,83,34,29,95,51\\n',\n",
              " '3,2,3,35,62,8,42\\n',\n",
              " '30,10,8,5,39,49,82\\n']"
            ]
          },
          "metadata": {},
          "execution_count": 49
        }
      ]
    },
    {
      "cell_type": "code",
      "source": [
        "# 이차 형태의 리스트로 만들기\n",
        "new_data = [d.strip().split(',') for d in data]\n",
        "new_data"
      ],
      "metadata": {
        "colab": {
          "base_uri": "https://localhost:8080/"
        },
        "id": "evDoN7qW-UQ8",
        "outputId": "33702f8b-4208-4433-b2fc-c6eb60356f92"
      },
      "execution_count": 50,
      "outputs": [
        {
          "output_type": "execute_result",
          "data": {
            "text/plain": [
              "[['40', '52', '11', '95', '52', '61', '21'],\n",
              " ['53', '17', '83', '34', '29', '95', '51'],\n",
              " ['3', '2', '3', '35', '62', '8', '42'],\n",
              " ['30', '10', '8', '5', '39', '49', '82']]"
            ]
          },
          "metadata": {},
          "execution_count": 50
        }
      ]
    },
    {
      "cell_type": "code",
      "source": [
        "# 넘파이에 집어넣으면서 형 변환\n",
        "result = np.array(new_data, dtype='int')"
      ],
      "metadata": {
        "id": "dHr8I76r-T6u"
      },
      "execution_count": 51,
      "outputs": []
    },
    {
      "cell_type": "code",
      "source": [
        "# 넘파이에서 형 변환\n",
        "np.array(new_data).astype('int')"
      ],
      "metadata": {
        "colab": {
          "base_uri": "https://localhost:8080/"
        },
        "id": "nyreKYbv_zoE",
        "outputId": "1e043db4-e14a-4fb7-ec5c-1f8d7c15806d"
      },
      "execution_count": 52,
      "outputs": [
        {
          "output_type": "execute_result",
          "data": {
            "text/plain": [
              "array([[40, 52, 11, 95, 52, 61, 21],\n",
              "       [53, 17, 83, 34, 29, 95, 51],\n",
              "       [ 3,  2,  3, 35, 62,  8, 42],\n",
              "       [30, 10,  8,  5, 39, 49, 82]])"
            ]
          },
          "metadata": {},
          "execution_count": 52
        }
      ]
    },
    {
      "cell_type": "code",
      "source": [
        "# 가장 많이 번 날\n",
        "result.max()"
      ],
      "metadata": {
        "colab": {
          "base_uri": "https://localhost:8080/"
        },
        "id": "yIrGiXFIAv9h",
        "outputId": "61d8b026-1f36-44e0-da96-b5daded470de"
      },
      "execution_count": 53,
      "outputs": [
        {
          "output_type": "execute_result",
          "data": {
            "text/plain": [
              "95"
            ]
          },
          "metadata": {},
          "execution_count": 53
        }
      ]
    },
    {
      "cell_type": "code",
      "source": [
        "# flatten 후 인덱스 번호를 리턴\n",
        "result.argmin()"
      ],
      "metadata": {
        "colab": {
          "base_uri": "https://localhost:8080/"
        },
        "id": "ZJdsTMXD0jLW",
        "outputId": "dc0238ca-0192-4ef9-e86d-96e441ecb06b"
      },
      "execution_count": 54,
      "outputs": [
        {
          "output_type": "execute_result",
          "data": {
            "text/plain": [
              "15"
            ]
          },
          "metadata": {},
          "execution_count": 54
        }
      ]
    },
    {
      "cell_type": "code",
      "source": [
        "# 원래 shape의 인덱스 번호를 알고 싶으면\n",
        "min_idx = result.argmin()\n",
        "\n",
        "np.unravel_index(min_idx, result.shape) # 셋째 주 화요일이 매출이 가장 적음"
      ],
      "metadata": {
        "colab": {
          "base_uri": "https://localhost:8080/"
        },
        "id": "mA2poF9h1GoX",
        "outputId": "35f46a10-d589-48af-ed5a-5432087da2c7"
      },
      "execution_count": 55,
      "outputs": [
        {
          "output_type": "execute_result",
          "data": {
            "text/plain": [
              "(2, 1)"
            ]
          },
          "metadata": {},
          "execution_count": 55
        }
      ]
    },
    {
      "cell_type": "code",
      "source": [
        "# 주 별로 많이 번 날\n",
        "# 셋 째 주가 제일 적으니 마케팅을 하자\n",
        "result.sum(axis=1)"
      ],
      "metadata": {
        "colab": {
          "base_uri": "https://localhost:8080/"
        },
        "id": "uZE9lu-NA2Ha",
        "outputId": "4617290b-c958-4e46-f969-c0d960d280f4"
      },
      "execution_count": 56,
      "outputs": [
        {
          "output_type": "execute_result",
          "data": {
            "text/plain": [
              "array([332, 362, 155, 223])"
            ]
          },
          "metadata": {},
          "execution_count": 56
        }
      ]
    },
    {
      "cell_type": "code",
      "source": [
        "# 요일 별 합계\n",
        "result.sum(axis=0)"
      ],
      "metadata": {
        "colab": {
          "base_uri": "https://localhost:8080/"
        },
        "id": "Pp9xEucEBDw0",
        "outputId": "c7ba35da-9ba7-4f22-c16e-cba9107ee1c9"
      },
      "execution_count": 57,
      "outputs": [
        {
          "output_type": "execute_result",
          "data": {
            "text/plain": [
              "array([126,  81, 105, 169, 182, 213, 196])"
            ]
          },
          "metadata": {},
          "execution_count": 57
        }
      ]
    },
    {
      "cell_type": "code",
      "source": [
        "# 요일 별 평균\n",
        "# 화, 수가 적으니 마케팅을 하자\n",
        "result.mean(axis=0)"
      ],
      "metadata": {
        "colab": {
          "base_uri": "https://localhost:8080/"
        },
        "id": "ENQD5UtxBNXE",
        "outputId": "c9793410-abbf-46fd-d986-32f8ffb44e83"
      },
      "execution_count": 58,
      "outputs": [
        {
          "output_type": "execute_result",
          "data": {
            "text/plain": [
              "array([31.5 , 20.25, 26.25, 42.25, 45.5 , 53.25, 49.  ])"
            ]
          },
          "metadata": {},
          "execution_count": 58
        }
      ]
    }
  ]
}